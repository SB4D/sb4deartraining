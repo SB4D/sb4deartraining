{
 "cells": [
  {
   "cell_type": "markdown",
   "id": "df130f1d",
   "metadata": {},
   "source": [
    "# Welcome to `sb4deartraining`"
   ]
  },
  {
   "cell_type": "markdown",
   "id": "1f20fdba",
   "metadata": {},
   "source": [
    "## Exercise 1: Guess The Gain!\n",
    "\n",
    "A randomly selected sample is played back. The FXs toggle button changes the volume by one of the displayed number of decibels (dB). Guess which one is correct!\n",
    "\n",
    "The obvious parameters in the code cell below allow you to adjust the dB range, the step size and the number of choices displayed. "
   ]
  },
  {
   "cell_type": "code",
   "execution_count": null,
   "id": "524cadce",
   "metadata": {},
   "outputs": [],
   "source": [
    "from sb4deartraining.games import GuessTheGain\n",
    "GuessTheGain(db_range=(-12,6), step=6, num_choices=3).run()"
   ]
  },
  {
   "cell_type": "markdown",
   "id": "f8e05f98",
   "metadata": {},
   "source": [
    "## Exercise 2: Guess The Frequency!\n",
    "\n",
    "A randomly selected sample is played back. The FXs toggle button changes applies a **parametric EQ** with a **12 dB boost** at one of the displayed frequencies. Guess which one is correct!"
   ]
  },
  {
   "cell_type": "code",
   "execution_count": null,
   "id": "48725e74",
   "metadata": {},
   "outputs": [],
   "source": [
    "from sb4deartraining.games import GuessTheFrequency\n",
    "GuessTheFrequency().run()"
   ]
  },
  {
   "cell_type": "markdown",
   "id": "9738ad99",
   "metadata": {},
   "source": [
    "## Exercise 3: Guess The Position\n",
    "\n",
    "A randomly selected sample is played back in mono. The FXs toggle button shifts the **panning** left or right in the stereo field. Guess how far!\n",
    "\n",
    "The level parameter in the code cell below controls the number of options on each side. A proper stereo playback system is recommended. "
   ]
  },
  {
   "cell_type": "code",
   "execution_count": null,
   "id": "dadf1b37",
   "metadata": {},
   "outputs": [],
   "source": [
    "from sb4deartraining.games import GuessWhere\n",
    "GuessWhere(level=2).run()"
   ]
  },
  {
   "cell_type": "markdown",
   "id": "7a4acb2d",
   "metadata": {},
   "source": [
    "## Exercise 4: Guess The Width!\n",
    "\n",
    "A randomly selected sample is played back in stereo. The FXs toggle button adjusts the **stereo width**. Guess how much!\n",
    "\n",
    "The obvious parameter in the code cell below controls the number of options. Again, a proper stereo playback system is recommended. "
   ]
  },
  {
   "cell_type": "code",
   "execution_count": null,
   "id": "394d59cb",
   "metadata": {},
   "outputs": [],
   "source": [
    "from sb4deartraining.games import GuessTheWidth\n",
    "GuessTheWidth(num_choices=3).run()"
   ]
  }
 ],
 "metadata": {
  "kernelspec": {
   "display_name": "Python 3",
   "language": "python",
   "name": "python3"
  },
  "language_info": {
   "codemirror_mode": {
    "name": "ipython",
    "version": 3
   },
   "file_extension": ".py",
   "mimetype": "text/x-python",
   "name": "python",
   "nbconvert_exporter": "python",
   "pygments_lexer": "ipython3",
   "version": "3.13.5"
  }
 },
 "nbformat": 4,
 "nbformat_minor": 5
}
