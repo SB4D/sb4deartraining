{
 "cells": [
  {
   "cell_type": "markdown",
   "id": "df130f1d",
   "metadata": {},
   "source": [
    "# Welcome to `sb4deartraining`"
   ]
  },
  {
   "cell_type": "markdown",
   "id": "1f20fdba",
   "metadata": {},
   "source": [
    "## Exercise 1: Guess The Gain!"
   ]
  },
  {
   "cell_type": "code",
   "execution_count": 1,
   "id": "524cadce",
   "metadata": {},
   "outputs": [
    {
     "data": {
      "application/vnd.jupyter.widget-view+json": {
       "model_id": "d30d163785f04b7bbed7c6886609a84f",
       "version_major": 2,
       "version_minor": 0
      },
      "text/plain": [
       "HTML(value='<h1>Guess The Gain!</h1>')"
      ]
     },
     "metadata": {},
     "output_type": "display_data"
    },
    {
     "data": {
      "application/vnd.jupyter.widget-view+json": {
       "model_id": "506320be4cc6442b8b46284ab56ba2e5",
       "version_major": 2,
       "version_minor": 0
      },
      "text/plain": [
       "HBox(children=(Button(button_style='success', description='▶ Play / Loop', style=ButtonStyle()), Button(button…"
      ]
     },
     "metadata": {},
     "output_type": "display_data"
    },
    {
     "data": {
      "application/vnd.jupyter.widget-view+json": {
       "model_id": "3f35eb174d2649a69f06988ed11a42b9",
       "version_major": 2,
       "version_minor": 0
      },
      "text/plain": [
       "HBox(children=(Button(description='-6 dB', style=ButtonStyle()), Button(description='0 dB', style=ButtonStyle(…"
      ]
     },
     "metadata": {},
     "output_type": "display_data"
    },
    {
     "data": {
      "application/vnd.jupyter.widget-view+json": {
       "model_id": "2ea87773dbad4ac1b1262e354c9d81c7",
       "version_major": 2,
       "version_minor": 0
      },
      "text/plain": [
       "Button(button_style='warning', description='Start over!', style=ButtonStyle())"
      ]
     },
     "metadata": {},
     "output_type": "display_data"
    }
   ],
   "source": [
    "from sb4deartraining.games import GuessTheGain\n",
    "GuessTheGain(db_range=(-12,6), step=6, num_choices=3).run()"
   ]
  },
  {
   "cell_type": "markdown",
   "id": "f8e05f98",
   "metadata": {},
   "source": [
    "## Exercise 2: Guess The Frequency!"
   ]
  },
  {
   "cell_type": "code",
   "execution_count": 2,
   "id": "48725e74",
   "metadata": {},
   "outputs": [
    {
     "data": {
      "application/vnd.jupyter.widget-view+json": {
       "model_id": "21e93d5b5450487a9f46664f4c02e601",
       "version_major": 2,
       "version_minor": 0
      },
      "text/plain": [
       "HTML(value='<h1>Guess The Frequency!</h1>')"
      ]
     },
     "metadata": {},
     "output_type": "display_data"
    },
    {
     "data": {
      "application/vnd.jupyter.widget-view+json": {
       "model_id": "60c0731233e048b6a336b6f02599d77b",
       "version_major": 2,
       "version_minor": 0
      },
      "text/plain": [
       "HBox(children=(Button(button_style='success', description='▶ Play / Loop', style=ButtonStyle()), Button(button…"
      ]
     },
     "metadata": {},
     "output_type": "display_data"
    },
    {
     "data": {
      "application/vnd.jupyter.widget-view+json": {
       "model_id": "99323d8a0f91427e8ad717974cdeea1d",
       "version_major": 2,
       "version_minor": 0
      },
      "text/plain": [
       "HBox(children=(Button(description='62 Hz', style=ButtonStyle()), Button(description='125 Hz', style=ButtonStyl…"
      ]
     },
     "metadata": {},
     "output_type": "display_data"
    },
    {
     "data": {
      "application/vnd.jupyter.widget-view+json": {
       "model_id": "eff2c718ff9a4439bbca2cf5289f0aaa",
       "version_major": 2,
       "version_minor": 0
      },
      "text/plain": [
       "Button(description='Start over!', style=ButtonStyle())"
      ]
     },
     "metadata": {},
     "output_type": "display_data"
    }
   ],
   "source": [
    "from sb4deartraining.games import GuessTheFrequency\n",
    "GuessTheFrequency().run()"
   ]
  },
  {
   "cell_type": "markdown",
   "id": "9738ad99",
   "metadata": {},
   "source": [
    "## Exercise 3: Guess The Position"
   ]
  },
  {
   "cell_type": "code",
   "execution_count": 3,
   "id": "dadf1b37",
   "metadata": {},
   "outputs": [
    {
     "data": {
      "application/vnd.jupyter.widget-view+json": {
       "model_id": "28e8fc9631e6439aaaa4264eded23ffd",
       "version_major": 2,
       "version_minor": 0
      },
      "text/plain": [
       "HTML(value='<h1>Guess Where!</h1>')"
      ]
     },
     "metadata": {},
     "output_type": "display_data"
    },
    {
     "data": {
      "application/vnd.jupyter.widget-view+json": {
       "model_id": "be1b7f4aaf214d2aabd82b5328b4fb29",
       "version_major": 2,
       "version_minor": 0
      },
      "text/plain": [
       "HBox(children=(Button(button_style='success', description='▶ Play / Loop', style=ButtonStyle()), Button(button…"
      ]
     },
     "metadata": {},
     "output_type": "display_data"
    },
    {
     "data": {
      "application/vnd.jupyter.widget-view+json": {
       "model_id": "0f14a48467f346d19c25187bfb1643e0",
       "version_major": 2,
       "version_minor": 0
      },
      "text/plain": [
       "HBox(children=(Button(description='100% L', style=ButtonStyle()), Button(description='67% L', style=ButtonStyl…"
      ]
     },
     "metadata": {},
     "output_type": "display_data"
    },
    {
     "data": {
      "application/vnd.jupyter.widget-view+json": {
       "model_id": "a96a5e0f6f6340ebab6654bab27185f0",
       "version_major": 2,
       "version_minor": 0
      },
      "text/plain": [
       "Button(button_style='warning', description='Start over!', style=ButtonStyle())"
      ]
     },
     "metadata": {},
     "output_type": "display_data"
    }
   ],
   "source": [
    "from sb4deartraining.games import GuessWhere\n",
    "GuessWhere(level=3).run()"
   ]
  },
  {
   "cell_type": "markdown",
   "id": "7a4acb2d",
   "metadata": {},
   "source": [
    "## Exercise 4: Guess The Width!"
   ]
  },
  {
   "cell_type": "code",
   "execution_count": 4,
   "id": "394d59cb",
   "metadata": {},
   "outputs": [
    {
     "data": {
      "application/vnd.jupyter.widget-view+json": {
       "model_id": "2eedc35862f94608894fb6e7e24d0040",
       "version_major": 2,
       "version_minor": 0
      },
      "text/plain": [
       "HTML(value='<h1>Guess How Wide!</h1>')"
      ]
     },
     "metadata": {},
     "output_type": "display_data"
    },
    {
     "data": {
      "application/vnd.jupyter.widget-view+json": {
       "model_id": "d3e710e5f8004747bb8aeb575742f29a",
       "version_major": 2,
       "version_minor": 0
      },
      "text/plain": [
       "HBox(children=(Button(button_style='success', description='▶ Play / Loop', style=ButtonStyle()), Button(button…"
      ]
     },
     "metadata": {},
     "output_type": "display_data"
    },
    {
     "data": {
      "application/vnd.jupyter.widget-view+json": {
       "model_id": "112f6ba4fd2d4533a63310819f97e749",
       "version_major": 2,
       "version_minor": 0
      },
      "text/plain": [
       "HBox(children=(Button(description='0%', style=ButtonStyle()), Button(description='50%', style=ButtonStyle()), …"
      ]
     },
     "metadata": {},
     "output_type": "display_data"
    },
    {
     "data": {
      "application/vnd.jupyter.widget-view+json": {
       "model_id": "ea48af24224a43d3a971544b9008b6e6",
       "version_major": 2,
       "version_minor": 0
      },
      "text/plain": [
       "Button(button_style='warning', description='Start over!', style=ButtonStyle())"
      ]
     },
     "metadata": {},
     "output_type": "display_data"
    }
   ],
   "source": [
    "from sb4deartraining.games import GuessTheWidth\n",
    "GuessTheWidth().run()"
   ]
  }
 ],
 "metadata": {
  "kernelspec": {
   "display_name": "Python 3",
   "language": "python",
   "name": "python3"
  },
  "language_info": {
   "codemirror_mode": {
    "name": "ipython",
    "version": 3
   },
   "file_extension": ".py",
   "mimetype": "text/x-python",
   "name": "python",
   "nbconvert_exporter": "python",
   "pygments_lexer": "ipython3",
   "version": "3.13.5"
  }
 },
 "nbformat": 4,
 "nbformat_minor": 5
}
