{
 "cells": [
  {
   "cell_type": "markdown",
   "id": "df130f1d",
   "metadata": {},
   "source": [
    "# Welcome to `sb4deartraining`"
   ]
  },
  {
   "cell_type": "markdown",
   "id": "1f20fdba",
   "metadata": {},
   "source": [
    "## Exercise 1: Guess The Gain!\n",
    "\n",
    "A randomly selected sample is played back. The FXs toggle button changes the volume by one of the displayed number of decibels (dB). Guess which one is correct!\n",
    "\n",
    "The obvious parameters in the code cell below allow you to adjust the dB range, the step size and the number of choices displayed. "
   ]
  },
  {
   "cell_type": "code",
   "execution_count": 1,
   "id": "524cadce",
   "metadata": {},
   "outputs": [
    {
     "data": {
      "application/vnd.jupyter.widget-view+json": {
       "model_id": "28d7c4d23fcc465b8b6b832397099d51",
       "version_major": 2,
       "version_minor": 0
      },
      "text/plain": [
       "HTML(value='<h1>Guess The Gain!</h1>')"
      ]
     },
     "metadata": {},
     "output_type": "display_data"
    },
    {
     "data": {
      "application/vnd.jupyter.widget-view+json": {
       "model_id": "8782c3a1c7f4427ba0c68bc21bbee235",
       "version_major": 2,
       "version_minor": 0
      },
      "text/plain": [
       "HBox(children=(Button(button_style='success', description='▶ Play / Loop', style=ButtonStyle()), Button(button…"
      ]
     },
     "metadata": {},
     "output_type": "display_data"
    },
    {
     "data": {
      "application/vnd.jupyter.widget-view+json": {
       "model_id": "d302e5db37fe47fab6dd7fedbd97da3e",
       "version_major": 2,
       "version_minor": 0
      },
      "text/plain": [
       "HBox(children=(Button(description='-12 dB', style=ButtonStyle()), Button(description='0 dB', style=ButtonStyle…"
      ]
     },
     "metadata": {},
     "output_type": "display_data"
    },
    {
     "data": {
      "application/vnd.jupyter.widget-view+json": {
       "model_id": "bddf89050c30426d8b3baf3c455f91c9",
       "version_major": 2,
       "version_minor": 0
      },
      "text/plain": [
       "Button(button_style='warning', description='Start over!', style=ButtonStyle())"
      ]
     },
     "metadata": {},
     "output_type": "display_data"
    }
   ],
   "source": [
    "from sb4deartraining.games import GuessTheGain\n",
    "GuessTheGain(db_range=(-12,6), step=6, num_choices=3).run()"
   ]
  },
  {
   "cell_type": "markdown",
   "id": "f8e05f98",
   "metadata": {},
   "source": [
    "## Exercise 2: Guess The Frequency!\n",
    "\n",
    "A randomly selected sample is played back. The FXs toggle button changes applies a **parametric EQ** with a **12 dB boost** at one of the displayed frequencies. Guess which one is correct!"
   ]
  },
  {
   "cell_type": "code",
   "execution_count": null,
   "id": "48725e74",
   "metadata": {},
   "outputs": [
    {
     "data": {
      "application/vnd.jupyter.widget-view+json": {
       "model_id": "b985cac0982b49d2a22decfc9a200af9",
       "version_major": 2,
       "version_minor": 0
      },
      "text/plain": [
       "HTML(value='<h1>Guess The Frequency!</h1>')"
      ]
     },
     "metadata": {},
     "output_type": "display_data"
    },
    {
     "data": {
      "application/vnd.jupyter.widget-view+json": {
       "model_id": "53b52afc969e449c91bfd91fea0e77f6",
       "version_major": 2,
       "version_minor": 0
      },
      "text/plain": [
       "HBox(children=(Button(button_style='success', description='▶ Play / Loop', style=ButtonStyle()), Button(button…"
      ]
     },
     "metadata": {},
     "output_type": "display_data"
    },
    {
     "data": {
      "application/vnd.jupyter.widget-view+json": {
       "model_id": "452138e1d39a4d52a10d8d33774899dc",
       "version_major": 2,
       "version_minor": 0
      },
      "text/plain": [
       "HBox(children=(Button(description='62 Hz', style=ButtonStyle()), Button(description='125 Hz', style=ButtonStyl…"
      ]
     },
     "metadata": {},
     "output_type": "display_data"
    },
    {
     "data": {
      "application/vnd.jupyter.widget-view+json": {
       "model_id": "8fc8cbee86ae49a3a1252882aa775290",
       "version_major": 2,
       "version_minor": 0
      },
      "text/plain": [
       "Button(description='Start over!', style=ButtonStyle())"
      ]
     },
     "metadata": {},
     "output_type": "display_data"
    }
   ],
   "source": [
    "from sb4deartraining.games import GuessTheFrequency\n",
    "GuessTheFrequency().run()"
   ]
  },
  {
   "cell_type": "markdown",
   "id": "9738ad99",
   "metadata": {},
   "source": [
    "## Exercise 3: Guess The Position\n",
    "\n",
    "A randomly selected sample is played back in mono. The FXs toggle button shifts the **panning** left or right in the stereo field. Guess how far!\n",
    "\n",
    "The level parameter in the code cell below controls the number of options on each side. A proper stereo playback system is recommended. "
   ]
  },
  {
   "cell_type": "code",
   "execution_count": 6,
   "id": "dadf1b37",
   "metadata": {},
   "outputs": [
    {
     "data": {
      "application/vnd.jupyter.widget-view+json": {
       "model_id": "f3a7337926644b7ba32c8eff5cc43218",
       "version_major": 2,
       "version_minor": 0
      },
      "text/plain": [
       "HTML(value='<h1>Guess Where!</h1>')"
      ]
     },
     "metadata": {},
     "output_type": "display_data"
    },
    {
     "data": {
      "application/vnd.jupyter.widget-view+json": {
       "model_id": "bbf9049db5124c9ba465cfe4f1061118",
       "version_major": 2,
       "version_minor": 0
      },
      "text/plain": [
       "HBox(children=(Button(button_style='success', description='▶ Play / Loop', style=ButtonStyle()), Button(button…"
      ]
     },
     "metadata": {},
     "output_type": "display_data"
    },
    {
     "data": {
      "application/vnd.jupyter.widget-view+json": {
       "model_id": "b7559213d4d74addab5863001cd4508e",
       "version_major": 2,
       "version_minor": 0
      },
      "text/plain": [
       "HBox(children=(Button(description='100% L', style=ButtonStyle()), Button(description='50% L', style=ButtonStyl…"
      ]
     },
     "metadata": {},
     "output_type": "display_data"
    },
    {
     "data": {
      "application/vnd.jupyter.widget-view+json": {
       "model_id": "b55a9a3817f44e3b97221fbd14de82ff",
       "version_major": 2,
       "version_minor": 0
      },
      "text/plain": [
       "Button(button_style='warning', description='Start over!', style=ButtonStyle())"
      ]
     },
     "metadata": {},
     "output_type": "display_data"
    }
   ],
   "source": [
    "from sb4deartraining.games import GuessWhere\n",
    "GuessWhere(level=2).run()"
   ]
  },
  {
   "cell_type": "markdown",
   "id": "7a4acb2d",
   "metadata": {},
   "source": [
    "## Exercise 4: Guess The Width!\n",
    "\n",
    "A randomly selected sample is played back in stereo. The FXs toggle button adjusts the **stereo width**. Guess how much!\n",
    "\n",
    "The obvious parameter in the code cell below controls the number of options. Again, a proper stereo playback system is recommended. "
   ]
  },
  {
   "cell_type": "code",
   "execution_count": 8,
   "id": "394d59cb",
   "metadata": {},
   "outputs": [
    {
     "data": {
      "application/vnd.jupyter.widget-view+json": {
       "model_id": "c9cf76ba33314e98ab05c0b7b1a15d08",
       "version_major": 2,
       "version_minor": 0
      },
      "text/plain": [
       "HTML(value='<h1>Guess How Wide!</h1>')"
      ]
     },
     "metadata": {},
     "output_type": "display_data"
    },
    {
     "data": {
      "application/vnd.jupyter.widget-view+json": {
       "model_id": "d17e4bf18cf8471a96dfab668ab852d6",
       "version_major": 2,
       "version_minor": 0
      },
      "text/plain": [
       "HBox(children=(Button(button_style='success', description='▶ Play / Loop', style=ButtonStyle()), Button(button…"
      ]
     },
     "metadata": {},
     "output_type": "display_data"
    },
    {
     "data": {
      "application/vnd.jupyter.widget-view+json": {
       "model_id": "3cad6b58f67240db93da04b38dd0e0c3",
       "version_major": 2,
       "version_minor": 0
      },
      "text/plain": [
       "HBox(children=(Button(description='0%', style=ButtonStyle()), Button(description='50%', style=ButtonStyle()), …"
      ]
     },
     "metadata": {},
     "output_type": "display_data"
    },
    {
     "data": {
      "application/vnd.jupyter.widget-view+json": {
       "model_id": "89a2821ae9ea49a98c0b19f3df634ef3",
       "version_major": 2,
       "version_minor": 0
      },
      "text/plain": [
       "Button(button_style='warning', description='Start over!', style=ButtonStyle())"
      ]
     },
     "metadata": {},
     "output_type": "display_data"
    }
   ],
   "source": [
    "from sb4deartraining.games import GuessTheWidth\n",
    "GuessTheWidth(num_choices=3).run()"
   ]
  }
 ],
 "metadata": {
  "kernelspec": {
   "display_name": "Python 3",
   "language": "python",
   "name": "python3"
  },
  "language_info": {
   "codemirror_mode": {
    "name": "ipython",
    "version": 3
   },
   "file_extension": ".py",
   "mimetype": "text/x-python",
   "name": "python",
   "nbconvert_exporter": "python",
   "pygments_lexer": "ipython3",
   "version": "3.13.5"
  }
 },
 "nbformat": 4,
 "nbformat_minor": 5
}
